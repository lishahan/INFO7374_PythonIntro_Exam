{
 "cells": [
  {
   "cell_type": "markdown",
   "metadata": {},
   "source": [
    "# Enron Email Analysis"
   ]
  },
  {
   "cell_type": "markdown",
   "metadata": {},
   "source": [
    "## Analysis1\n",
    "How many unique users in all these files are from Enron"
   ]
  },
  {
   "cell_type": "code",
   "execution_count": 2,
   "metadata": {
    "collapsed": true
   },
   "outputs": [],
   "source": [
    "import nltk\n",
    "import os\n",
    "import string\n",
    "from nltk.corpus import stopwords\n",
    "import matplotlib.pyplot as plt"
   ]
  },
  {
   "cell_type": "code",
   "execution_count": 3,
   "metadata": {
    "collapsed": true
   },
   "outputs": [],
   "source": [
    "#functions to remove punctuation, numbers, empty content and stop words\n",
    "def remove_punctuation(words_list):\n",
    "    words_noPunc = []\n",
    "    words_punc = string.punctuation\n",
    "    for word in words_list:\n",
    "        buffer = 0\n",
    "        for subword in word:\n",
    "            if subword in words_punc:\n",
    "                buffer += 1\n",
    "        if buffer==0:\n",
    "            words_noPunc.append(word)\n",
    "    return words_noPunc\n",
    "def remove_int(words_list):\n",
    "    words_noInt = [word for word in words_list if not any(x.isdigit() for x in word)]\n",
    "    return words_noInt\n",
    "def remove_empty(words_list):\n",
    "    words_noEmpty = []\n",
    "    for word in words_list:\n",
    "        if word != '':\n",
    "            words_noEmpty.append(word)\n",
    "    return words_noEmpty\n",
    "def remove_stop(words_list):\n",
    "    cachedStopWords = stopwords.words(\"english\")\n",
    "    words_noStop = [word for word in words_list if word not in cachedStopWords]\n",
    "    return words_noStop"
   ]
  },
  {
   "cell_type": "code",
   "execution_count": 4,
   "metadata": {
    "collapsed": true
   },
   "outputs": [],
   "source": [
    "#define local path\n",
    "path_local = '/Users/lisha/Desktop/'\n",
    "path_dir = path_local + 'maildir' "
   ]
  },
  {
   "cell_type": "code",
   "execution_count": 5,
   "metadata": {
    "collapsed": false
   },
   "outputs": [
    {
     "name": "stdout",
     "output_type": "stream",
     "text": [
      "['/Users/lisha/Desktop/maildir/.DS_Store', '/Users/lisha/Desktop/maildir/arnold-j/.DS_Store', '/Users/lisha/Desktop/maildir/arnold-j/2000_conference/1.']\n"
     ]
    }
   ],
   "source": [
    "#get all the directories of all files\n",
    "list_dir = []\n",
    "for path, subdirs, files in os.walk(path_dir):\n",
    "    for name in files:\n",
    "        list_dir.append(os.path.join(path, name))\n",
    "print(list_dir[:3])"
   ]
  },
  {
   "cell_type": "code",
   "execution_count": 7,
   "metadata": {
    "collapsed": false
   },
   "outputs": [],
   "source": [
    "#Get all employees from the \"X-Origin:\" and \n",
    "dic_employee = {}\n",
    "for item in list_dir:\n",
    "    if '.DS_Store' not in item:\n",
    "        searchfile = open(item, encoding = \"ISO-8859-1\")\n",
    "        for line in searchfile:\n",
    "            if \"X-Origin:\" in line:\n",
    "                if line[10:] not in dic_employee.keys():\n",
    "                    dic_employee[line[10:]] = 1\n",
    "                else:\n",
    "                    dic_employee[line[10:]] +=1\n",
    "                break\n",
    "        searchfile.close()"
   ]
  },
  {
   "cell_type": "code",
   "execution_count": 8,
   "metadata": {
    "collapsed": false
   },
   "outputs": [
    {
     "name": "stdout",
     "output_type": "stream",
     "text": [
      "There are  248  unique users in all these files are from Enron\n"
     ]
    }
   ],
   "source": [
    "print('There are ', len(dic_employee), ' unique users in all these files are from Enron')"
   ]
  },
  {
   "cell_type": "code",
   "execution_count": null,
   "metadata": {
    "collapsed": true
   },
   "outputs": [],
   "source": []
  }
 ],
 "metadata": {
  "kernelspec": {
   "display_name": "Python 3",
   "language": "python",
   "name": "python3"
  },
  "language_info": {
   "codemirror_mode": {
    "name": "ipython",
    "version": 3
   },
   "file_extension": ".py",
   "mimetype": "text/x-python",
   "name": "python",
   "nbconvert_exporter": "python",
   "pygments_lexer": "ipython3",
   "version": "3.6.0"
  }
 },
 "nbformat": 4,
 "nbformat_minor": 2
}
