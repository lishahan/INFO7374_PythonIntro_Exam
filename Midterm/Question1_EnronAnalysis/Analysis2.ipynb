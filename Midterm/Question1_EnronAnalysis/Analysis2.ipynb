{
 "cells": [
  {
   "cell_type": "markdown",
   "metadata": {},
   "source": [
    "# Enron Email Analysis"
   ]
  },
  {
   "cell_type": "markdown",
   "metadata": {},
   "source": [
    "## Analysis 2\n",
    "top10 word in subject"
   ]
  },
  {
   "cell_type": "code",
   "execution_count": 1,
   "metadata": {
    "collapsed": true
   },
   "outputs": [],
   "source": [
    "import nltk\n",
    "import os\n",
    "import string\n",
    "from nltk.corpus import stopwords\n",
    "import matplotlib.pyplot as plt"
   ]
  },
  {
   "cell_type": "code",
   "execution_count": 2,
   "metadata": {
    "collapsed": true
   },
   "outputs": [],
   "source": [
    "#functions to remove punctuation, numbers, empty content and stop words\n",
    "def remove_punctuation(words_list):\n",
    "    words_noPunc = []\n",
    "    words_punc = string.punctuation\n",
    "    for word in words_list:\n",
    "        buffer = 0\n",
    "        for subword in word:\n",
    "            if subword in words_punc:\n",
    "                buffer += 1\n",
    "        if buffer==0:\n",
    "            words_noPunc.append(word)\n",
    "    return words_noPunc\n",
    "def remove_int(words_list):\n",
    "    words_noInt = [word for word in words_list if not any(x.isdigit() for x in word)]\n",
    "    return words_noInt\n",
    "def remove_empty(words_list):\n",
    "    words_noEmpty = []\n",
    "    for word in words_list:\n",
    "        if word != '':\n",
    "            words_noEmpty.append(word)\n",
    "    return words_noEmpty\n",
    "def remove_stop(words_list):\n",
    "    cachedStopWords = stopwords.words(\"english\")\n",
    "    words_noStop = [word for word in words_list if word not in cachedStopWords]\n",
    "    return words_noStop"
   ]
  },
  {
   "cell_type": "code",
   "execution_count": 32,
   "metadata": {
    "collapsed": true
   },
   "outputs": [],
   "source": [
    "#define local path\n",
    "path_local = '/Users/lisha/Desktop/'\n",
    "path_dir = path_local + 'maildir' "
   ]
  },
  {
   "cell_type": "code",
   "execution_count": 33,
   "metadata": {
    "collapsed": false
   },
   "outputs": [],
   "source": [
    "#get all the directories of all files\n",
    "list_dir = []\n",
    "for path, subdirs, files in os.walk(path_dir):\n",
    "    for name in files:\n",
    "        list_dir.append(os.path.join(path, name))"
   ]
  },
  {
   "cell_type": "code",
   "execution_count": 34,
   "metadata": {
    "collapsed": false
   },
   "outputs": [
    {
     "name": "stdout",
     "output_type": "stream",
     "text": [
      "['/Users/lisha/Desktop/maildir/.DS_Store', '/Users/lisha/Desktop/maildir/arnold-j/.DS_Store', '/Users/lisha/Desktop/maildir/arnold-j/2000_conference/1.', '/Users/lisha/Desktop/maildir/arnold-j/2000_conference/2.']\n"
     ]
    }
   ],
   "source": [
    "print(list_dir[:4])"
   ]
  },
  {
   "cell_type": "code",
   "execution_count": 35,
   "metadata": {
    "collapsed": false
   },
   "outputs": [],
   "source": [
    "#get the list of all subjects\n",
    "list_subject = []\n",
    "dic_date = {}\n",
    "list_temp = []\n",
    "for item in list_dir:\n",
    "    if '.DS_Store' not in item:\n",
    "        searchfile = open(item, encoding = \"ISO-8859-1\")\n",
    "        for line in searchfile:\n",
    "            if \"Subject\" in line:\n",
    "                list_subject.extend(line[9:].split(' '))\n",
    "        searchfile.close()      "
   ]
  },
  {
   "cell_type": "code",
   "execution_count": 36,
   "metadata": {
    "collapsed": true
   },
   "outputs": [],
   "source": [
    "#remove all the \\n from subjects\n",
    "list_subject = map(lambda s: s.strip(), list_subject)\n",
    "        \n",
    "#remove punctuation,numbers,empty content and stop words\n",
    "list_subject1=[]\n",
    "list_subject2=[]\n",
    "list_subject3=[]\n",
    "list_subject1 = remove_punctuation(list_subject)\n",
    "list_subject2 = remove_int(list_subject1)\n",
    "list_subject3=remove_empty(list_subject2)\n",
    "list_subject1=[]\n",
    "list_subject1=remove_stop(list_subject3)"
   ]
  },
  {
   "cell_type": "code",
   "execution_count": 37,
   "metadata": {
    "collapsed": true
   },
   "outputs": [],
   "source": [
    "#count and sort all unique words from subjects\n",
    "subject_unique = {}\n",
    "for word in list_subject1:\n",
    "    if word.lower() in subject_unique.keys():\n",
    "        subject_unique[word.lower()] +=1\n",
    "    else:\n",
    "        subject_unique[word.lower()] = 1\n",
    "subject_temp = {}\n",
    "subject_temp = sorted(subject_unique.items(), key = lambda x : x[1], reverse =True)\n",
    "subject_unique = subject_temp"
   ]
  },
  {
   "cell_type": "code",
   "execution_count": 38,
   "metadata": {
    "collapsed": false
   },
   "outputs": [
    {
     "name": "stdout",
     "output_type": "stream",
     "text": [
      "The top 10 used keywords in subject are:\n",
      "1 . enron appeared 28933 times\n",
      "2 . meeting appeared 22983 times\n",
      "3 . agreement appeared 21761 times\n",
      "4 . gas appeared 18382 times\n",
      "5 . new appeared 18214 times\n",
      "6 . power appeared 15083 times\n",
      "7 . energy appeared 14674 times\n",
      "8 . report appeared 12965 times\n",
      "9 . update appeared 12325 times\n",
      "10 . request appeared 11115 times\n"
     ]
    }
   ],
   "source": [
    "print('The top 10 used keywords in subject are:')\n",
    "for i in range(10):\n",
    "    print(i+1,'.',subject_unique[i][0], 'appeared', subject_unique[i][1] , 'times')"
   ]
  },
  {
   "cell_type": "code",
   "execution_count": null,
   "metadata": {
    "collapsed": true
   },
   "outputs": [],
   "source": []
  },
  {
   "cell_type": "code",
   "execution_count": null,
   "metadata": {
    "collapsed": true
   },
   "outputs": [],
   "source": []
  }
 ],
 "metadata": {
  "kernelspec": {
   "display_name": "Python 3",
   "language": "python",
   "name": "python3"
  },
  "language_info": {
   "codemirror_mode": {
    "name": "ipython",
    "version": 3
   },
   "file_extension": ".py",
   "mimetype": "text/x-python",
   "name": "python",
   "nbconvert_exporter": "python",
   "pygments_lexer": "ipython3",
   "version": "3.6.0"
  }
 },
 "nbformat": 4,
 "nbformat_minor": 2
}
