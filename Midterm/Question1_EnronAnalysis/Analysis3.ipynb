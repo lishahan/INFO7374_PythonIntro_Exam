{
 "cells": [
  {
   "cell_type": "markdown",
   "metadata": {},
   "source": [
    "# Enron Email Analysis"
   ]
  },
  {
   "cell_type": "markdown",
   "metadata": {},
   "source": [
    "## Analysis 3\n",
    "Analysis top10 business related topic and export a plot by date\n",
    "Show how the Enron fall into business crisis"
   ]
  },
  {
   "cell_type": "code",
   "execution_count": 53,
   "metadata": {
    "collapsed": false
   },
   "outputs": [],
   "source": [
    "import nltk\n",
    "import os\n",
    "import string\n",
    "from nltk.corpus import stopwords\n",
    "import matplotlib.pyplot as plt\n",
    "import numpy as np"
   ]
  },
  {
   "cell_type": "code",
   "execution_count": 54,
   "metadata": {
    "collapsed": true
   },
   "outputs": [],
   "source": [
    "#functions to remove punctuation, numbers, empty content and stop words\n",
    "def remove_punctuation(words_list):\n",
    "    words_noPunc = []\n",
    "    words_punc = string.punctuation\n",
    "    for word in words_list:\n",
    "        buffer = 0\n",
    "        for subword in word:\n",
    "            if subword in words_punc:\n",
    "                buffer += 1\n",
    "        if buffer==0:\n",
    "            words_noPunc.append(word)\n",
    "    return words_noPunc\n",
    "def remove_int(words_list):\n",
    "    words_noInt = [word for word in words_list if not any(x.isdigit() for x in word)]\n",
    "    return words_noInt\n",
    "def remove_empty(words_list):\n",
    "    words_noEmpty = []\n",
    "    for word in words_list:\n",
    "        if word != '':\n",
    "            words_noEmpty.append(word)\n",
    "    return words_noEmpty\n",
    "def remove_stop(words_list):\n",
    "    cachedStopWords = stopwords.words(\"english\")\n",
    "    words_noStop = [word for word in words_list if word not in cachedStopWords]\n",
    "    return words_noStop\n",
    "def get_month(mon):\n",
    "    options={'Jan':1, 'Feb':2,'Mar':3,'Apr':4,'May':5,'Jun':6,'Jul':7,'Aug':8,'Sep':9,'Oct':10,'Nov':11,'Dec':12}\n",
    "    if mon in options.keys():\n",
    "        return options[mon]\n",
    "    else:\n",
    "        return '0'"
   ]
  },
  {
   "cell_type": "code",
   "execution_count": 55,
   "metadata": {
    "collapsed": false
   },
   "outputs": [],
   "source": [
    "#define local path\n",
    "path_local = '/Users/lisha/Desktop/INFO7374_PythonIntro_Exam/Midterm/data/'\n",
    "path_dir = path_local + 'maildirTest' "
   ]
  },
  {
   "cell_type": "code",
   "execution_count": 56,
   "metadata": {
    "collapsed": false
   },
   "outputs": [],
   "source": [
    "#get all the directories of all files\n",
    "list_dir = []\n",
    "for path, subdirs, files in os.walk(path_dir):\n",
    "    for name in files:\n",
    "        list_dir.append(os.path.join(path, name))"
   ]
  },
  {
   "cell_type": "code",
   "execution_count": 57,
   "metadata": {
    "collapsed": false
   },
   "outputs": [
    {
     "name": "stdout",
     "output_type": "stream",
     "text": [
      "['/Users/lisha/Desktop/INFO7374_PythonIntro_Exam/Midterm/data/maildirTest/.DS_Store', '/Users/lisha/Desktop/INFO7374_PythonIntro_Exam/Midterm/data/maildirTest/.DS_Store.bak', '/Users/lisha/Desktop/INFO7374_PythonIntro_Exam/Midterm/data/maildirTest/allen-p/.DS_Store']\n"
     ]
    }
   ],
   "source": [
    "print(list_dir[:3])"
   ]
  },
  {
   "cell_type": "code",
   "execution_count": 58,
   "metadata": {
    "collapsed": true
   },
   "outputs": [],
   "source": [
    "#Top 10 topics related to the process of core business\n",
    "list_topic = ['enron','deal','agreement','chang','contract','corp','fax','houston','date','america']"
   ]
  },
  {
   "cell_type": "code",
   "execution_count": 59,
   "metadata": {
    "collapsed": false
   },
   "outputs": [],
   "source": [
    "#Get all email content by date format year month(eg. 201703)\n",
    "dic_date = {}\n",
    "for item in list_dir:\n",
    "    if '.DS_Store' not in item:\n",
    "        searchfile = open(item, encoding = \"ISO-8859-1\")\n",
    "        for line in searchfile:\n",
    "            line_temp = []\n",
    "            line_new = ''\n",
    "            if line[:5] == 'Date:':            \n",
    "                line_new = line.strip()\n",
    "                line_temp = line_new.split(' ')\n",
    "                if len(line_temp)==8:\n",
    "                    month = get_month(line.split(' ')[3])\n",
    "                    year = line.split(' ')[4]\n",
    "                else:\n",
    "                    x=0\n",
    "                if len(str(month))<= 1 :\n",
    "                    year_month = year + str(0) + str(month)\n",
    "                else:\n",
    "                    year_month = year + str(month)\n",
    "                if int(year) >= 1998:\n",
    "                    if int(year)<=2003:\n",
    "                        lines=''\n",
    "                        for line1 in searchfile:\n",
    "                            for word in list_topic:\n",
    "                                if word in line1:\n",
    "                                    if year_month not in dic_date.keys():\n",
    "                                        dic_date[year_month] = 1\n",
    "                                    else:\n",
    "                                        dic_date[year_month] += 1                                      \n",
    "        searchfile.close()"
   ]
  },
  {
   "cell_type": "code",
   "execution_count": 60,
   "metadata": {
    "collapsed": false
   },
   "outputs": [
    {
     "name": "stdout",
     "output_type": "stream",
     "text": [
      "{'200105': 15419, '200010': 14640, '200008': 11806, '200007': 8405, '200009': 8972, '200104': 15341, '200006': 7935, '200005': 6910, '200004': 7568, '200003': 8249, '200002': 6730, '200001': 7095, '199912': 2384, '200103': 15187, '200102': 10631, '200012': 24473, '200101': 18580, '200011': 31114, '200112': 7174, '200110': 15228, '200108': 2271, '200111': 12507, '200201': 12889, '200109': 1373, '200106': 5636, '200107': 1015, '200202': 4450, '199911': 12}\n"
     ]
    }
   ],
   "source": [
    "print(dic_date)"
   ]
  },
  {
   "cell_type": "code",
   "execution_count": 61,
   "metadata": {
    "collapsed": false
   },
   "outputs": [],
   "source": [
    "year = []\n",
    "frequency = []\n",
    "for key in dic_date.keys():\n",
    "    year.append(key)\n",
    "    frequency.append(dic_date[key]/10000)"
   ]
  },
  {
   "cell_type": "code",
   "execution_count": 64,
   "metadata": {
    "collapsed": false
   },
   "outputs": [
    {
     "data": {
      "image/png": "[encoded data removed]",
      "text/plain": [
       "<matplotlib.figure.Figure at 0x1190c84a8>"
      ]
     },
     "metadata": {},
     "output_type": "display_data"
    }
   ],
   "source": [
    "plt.plot(year,frequency,'g^')\n",
    "plt.xlabel('Month')\n",
    "plt.ylabel('Frequency')\n",
    "plt.title('Distribution by Month')\n",
    "plt.savefig('plot_distribution.jpg')\n",
    "plt.show()"
   ]
  },
  {
   "cell_type": "code",
   "execution_count": 65,
   "metadata": {
    "collapsed": false
   },
   "outputs": [
    {
     "name": "stdout",
     "output_type": "stream",
     "text": [
      "The distribution of top10 key topic indicates the acivity of business.\n",
      "The business dorp down obviously after 2001 which is the same status as status of Enron.\n"
     ]
    }
   ],
   "source": [
    "print('The distribution of top10 key topic indicates the acivity of business.')\n",
    "print('The business dorp down obviously after 2001 which is the same status as status of Enron.')"
   ]
  },
  {
   "cell_type": "code",
   "execution_count": null,
   "metadata": {
    "collapsed": true
   },
   "outputs": [],
   "source": []
  }
 ],
 "metadata": {
  "kernelspec": {
   "display_name": "Python 3",
   "language": "python",
   "name": "python3"
  },
  "language_info": {
   "codemirror_mode": {
    "name": "ipython",
    "version": 3
   },
   "file_extension": ".py",
   "mimetype": "text/x-python",
   "name": "python",
   "nbconvert_exporter": "python",
   "pygments_lexer": "ipython3",
   "version": "3.6.0"
  }
 },
 "nbformat": 4,
 "nbformat_minor": 2
}
