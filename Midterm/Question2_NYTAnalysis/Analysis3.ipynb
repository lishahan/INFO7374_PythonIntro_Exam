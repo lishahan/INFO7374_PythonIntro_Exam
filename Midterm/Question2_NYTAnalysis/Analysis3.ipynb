{
 "cells": [
  {
   "cell_type": "markdown",
   "metadata": {
    "collapsed": true
   },
   "source": [
    "# New York Time Data Analysis"
   ]
  },
  {
   "cell_type": "markdown",
   "metadata": {},
   "source": [
    "## Analysis3\n",
    "-Go through the [lead_paragraph] from each json file from the past 5 years\n",
    "-Count frequency of words from keyword list ['Oscar','Super Bowl', 'Election', 'International']\n",
    "-Plot a figure with frequency of different keywords from different years"
   ]
  },
  {
   "cell_type": "code",
   "execution_count": 45,
   "metadata": {
    "collapsed": true
   },
   "outputs": [],
   "source": [
    "import nltk\n",
    "import os\n",
    "import string\n",
    "from nltk.corpus import stopwords\n",
    "import json\n",
    "import glob\n",
    "import matplotlib.pyplot as plt\n",
    "import numpy as np"
   ]
  },
  {
   "cell_type": "code",
   "execution_count": 46,
   "metadata": {
    "collapsed": true
   },
   "outputs": [],
   "source": [
    "#define local path\n",
    "path_local = '/Users/lisha/Desktop/INFO7374_PythonIntro_Exam/Midterm/data/ArchieveTest'"
   ]
  },
  {
   "cell_type": "code",
   "execution_count": 47,
   "metadata": {
    "collapsed": true
   },
   "outputs": [],
   "source": [
    "#get all the directories of all files\n",
    "list_dir = []\n",
    "for path, subdirs, files in os.walk(path_local):\n",
    "    for name in files:\n",
    "        list_dir.append(os.path.join(path, name))"
   ]
  },
  {
   "cell_type": "code",
   "execution_count": 64,
   "metadata": {
    "collapsed": false
   },
   "outputs": [],
   "source": [
    "#Get document from ['response']['docs']\n",
    "#Caculate keywords frequency and store them by years\n",
    "dic_data = {}\n",
    "dic_head = {}\n",
    "for root, dirs, files in os.walk(os.getcwd()):            \n",
    "    for f in list_dir:                        \n",
    "        if f.lower().endswith((\".json\")):  \n",
    "            with open(f, 'r') as data_file:\n",
    "                dic_data.update(json.load(data_file))\n",
    "                for list_doc in dic_data['response']['docs']:\n",
    "                    year = list_doc['pub_date'][0:4]\n",
    "                    list_temp = []\n",
    "                    list_temp.append(str(list_doc['lead_paragraph']).lower())\n",
    "                    if year in dic_head.keys():                        \n",
    "                        dic_head[year].extend(list_temp)\n",
    "                    else:\n",
    "                        dic_head[year] = list_temp\n",
    "                    "
   ]
  },
  {
   "cell_type": "code",
   "execution_count": 65,
   "metadata": {
    "collapsed": true
   },
   "outputs": [],
   "source": [
    "list_keywords = ['Oscar','Super Bowl', 'Election', 'International']\n",
    "condition = {'Oscar':('academy award' or 'oscar'),'Super Bowl':('super bowl' or 'nfl' or 'quarterback'), 'Election':('president' or 'election'), 'International':'international'}"
   ]
  },
  {
   "cell_type": "code",
   "execution_count": 66,
   "metadata": {
    "collapsed": false
   },
   "outputs": [],
   "source": [
    "dic_freq={}\n",
    "\n",
    "for year in dic_head.keys():\n",
    "    dic_temp={}\n",
    "    for head in dic_head[year]:\n",
    "         for keyword in list_keywords:            \n",
    "            if condition[keyword] in head:\n",
    "                if keyword not in dic_temp.keys():\n",
    "                    dic_temp[keyword] = 1\n",
    "                else:\n",
    "                    dic_temp[keyword] += 1\n",
    "    if year not in dic_freq.keys():\n",
    "        dic_freq[year]=dic_temp\n",
    "    else:\n",
    "        dic_freq[year].update(dic_temp)"
   ]
  },
  {
   "cell_type": "code",
   "execution_count": 67,
   "metadata": {
    "collapsed": false
   },
   "outputs": [
    {
     "name": "stdout",
     "output_type": "stream",
     "text": [
      "{'Election': 2428, 'International': 126, 'Super Bowl': 76, 'Oscar': 46}\n"
     ]
    }
   ],
   "source": [
    "print(dic_freq['2017'])"
   ]
  },
  {
   "cell_type": "code",
   "execution_count": 70,
   "metadata": {
    "collapsed": false
   },
   "outputs": [
    {
     "data": {
      "text/plain": [
       "<matplotlib.figure.Figure at 0x1155b8cf8>"
      ]
     },
     "metadata": {},
     "output_type": "display_data"
    },
    {
     "data": {
      "image/png": "[encoded data removed]",
      "text/plain": [
       "<matplotlib.figure.Figure at 0x11c74ef28>"
      ]
     },
     "metadata": {},
     "output_type": "display_data"
    }
   ],
   "source": [
    "#Plot a figure with frequency of different keywords from different years\n",
    "fig = plt.figure()\n",
    "ax = fig.add_subplot(111)\n",
    "\n",
    "list_year=[]\n",
    "list_super=[]\n",
    "list_inter=[]\n",
    "list_ele=[]\n",
    "list_oscar=[]\n",
    "year = 2017-len(dic_freq)+1\n",
    "for i in range(len(dic_freq)):\n",
    "    list_year.append(str(year+i))\n",
    "    list_super.append(dic_freq[str(year+i)]['Super Bowl'])\n",
    "    list_inter.append(dic_freq[str(year+i)]['International'])\n",
    "    list_ele.append(dic_freq[str(year+i)]['Election'])\n",
    "    list_oscar.append(dic_freq[str(year+i)]['Oscar'])   \n",
    "# the data\n",
    "N = 5\n",
    "# the x locations for the groups\n",
    "ind = np.arange(N)\n",
    "# the width of the bars\n",
    "width = 0.2     \n",
    "# the bars\n",
    "rects1 = ax.bar(ind, list_super, width, color='red')\n",
    "rects2 = ax.bar(ind+width, list_inter, width, color='yellow')\n",
    "rects3 = ax.bar(ind+width*2, list_ele, width, color='green')\n",
    "rects4 = ax.bar(ind+width*3, list_oscar, width, color='blue')\n",
    "\n",
    "# axes and labels\n",
    "ax.set_xlim(-width,len(ind)+width)\n",
    "ax.set_ylabel('Words appearance frequency')\n",
    "ax.set_title('Topic Frequency from Past 5 years NYT Record')\n",
    "xTickMarks = list_year\n",
    "ax.set_xticks(ind+width)\n",
    "xtickNames = ax.set_xticklabels(xTickMarks)\n",
    "plt.setp(xtickNames, rotation=45, fontsize=10)\n",
    "\n",
    "## add a legend\n",
    "ax.legend( (rects1[0], rects2[0], rects3[0],rects4[0]), ('Super bowl', 'International', 'Election', 'Oscar'))\n",
    "plt.savefig('plot_frequency.jpg')\n",
    "plt.show()    "
   ]
  },
  {
   "cell_type": "code",
   "execution_count": null,
   "metadata": {
    "collapsed": true
   },
   "outputs": [],
   "source": []
  }
 ],
 "metadata": {
  "kernelspec": {
   "display_name": "Python 3",
   "language": "python",
   "name": "python3"
  },
  "language_info": {
   "codemirror_mode": {
    "name": "ipython",
    "version": 3
   },
   "file_extension": ".py",
   "mimetype": "text/x-python",
   "name": "python",
   "nbconvert_exporter": "python",
   "pygments_lexer": "ipython3",
   "version": "3.6.0"
  }
 },
 "nbformat": 4,
 "nbformat_minor": 2
}
