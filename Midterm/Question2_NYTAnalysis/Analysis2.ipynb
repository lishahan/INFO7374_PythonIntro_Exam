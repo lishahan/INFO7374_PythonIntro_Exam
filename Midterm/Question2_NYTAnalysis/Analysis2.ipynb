{
 "cells": [
  {
   "cell_type": "markdown",
   "metadata": {
    "collapsed": true
   },
   "source": [
    "# New York Time Data Analysis"
   ]
  },
  {
   "cell_type": "markdown",
   "metadata": {},
   "source": [
    "## Analysis2\n",
    "Hotest word in recent 5 years(data from archive API)"
   ]
  },
  {
   "cell_type": "code",
   "execution_count": 96,
   "metadata": {
    "collapsed": true
   },
   "outputs": [],
   "source": [
    "import nltk\n",
    "import os\n",
    "import string\n",
    "from nltk.corpus import stopwords\n",
    "import json\n",
    "import glob"
   ]
  },
  {
   "cell_type": "code",
   "execution_count": 97,
   "metadata": {
    "collapsed": false
   },
   "outputs": [],
   "source": [
    "#functions to remove punctuation, numbers, empty content and stop words\n",
    "def remove_punctuation(words_list):\n",
    "    words_noPunc = []\n",
    "    words_punc = string.punctuation\n",
    "    words_punc+='—'\n",
    "    for word in words_list:\n",
    "        buffer = 0\n",
    "        for subword in word:\n",
    "            if subword in words_punc:\n",
    "                buffer += 1\n",
    "        if buffer==0:\n",
    "            words_noPunc.append(word)\n",
    "    return words_noPunc\n",
    "def remove_int(words_list):\n",
    "    words_noInt = [word for word in words_list if not any(x.isdigit() for x in word)]\n",
    "    return words_noInt\n",
    "def remove_empty(words_list):\n",
    "    words_noEmpty = []\n",
    "    for word in words_list:\n",
    "        if word != '':\n",
    "            words_noEmpty.append(word)\n",
    "    return words_noEmpty\n",
    "def remove_stop(words_list):\n",
    "    cachedStopWords = stopwords.words(\"english\")\n",
    "    words_noStop = [word for word in words_list if word.lower() not in cachedStopWords]\n",
    "    return words_noStop"
   ]
  },
  {
   "cell_type": "code",
   "execution_count": 98,
   "metadata": {
    "collapsed": true
   },
   "outputs": [],
   "source": [
    "#define local path\n",
    "path_local = '/Users/lisha/Desktop/INFO7374_PythonIntro_Exam/Midterm/data/ArchieveTest'"
   ]
  },
  {
   "cell_type": "code",
   "execution_count": 99,
   "metadata": {
    "collapsed": true
   },
   "outputs": [],
   "source": [
    "#get all the directories of all files\n",
    "list_dir = []\n",
    "for path, subdirs, files in os.walk(path_local):\n",
    "    for name in files:\n",
    "        list_dir.append(os.path.join(path, name))"
   ]
  },
  {
   "cell_type": "code",
   "execution_count": 109,
   "metadata": {
    "collapsed": false
   },
   "outputs": [],
   "source": [
    "#Get document from ['response']['docs']\n",
    "#Put all snippets in dic_data\n",
    "dic_data = {}\n",
    "list_snippet = []\n",
    "for root, dirs, files in os.walk(os.getcwd()):            \n",
    "    for f in list_dir:                        \n",
    "        if f.lower().endswith((\".json\")):  \n",
    "            with open(f, 'r') as data_file:\n",
    "                dic_data.update(json.load(data_file))\n",
    "                for list_doc in dic_data['response']['docs']:\n",
    "                    list_snippet.append(list_doc['snippet'])"
   ]
  },
  {
   "cell_type": "code",
   "execution_count": 102,
   "metadata": {
    "collapsed": false
   },
   "outputs": [],
   "source": [
    "#Extract words from snippets list\n",
    "list_words = []\n",
    "for i in range(len(list_snippet)):\n",
    "    list_words.extend(str(list_snippet[i]).split(' '))"
   ]
  },
  {
   "cell_type": "code",
   "execution_count": 103,
   "metadata": {
    "collapsed": false
   },
   "outputs": [],
   "source": [
    "#Remove punctuation, numbers, empty content and stop words\n",
    "list1=[]\n",
    "list2=[]\n",
    "list3=[]\n",
    "list1 = remove_empty(list_words)\n",
    "list2 = remove_int(list1)\n",
    "list3 = remove_punctuation(list2)\n",
    "list_words=[]\n",
    "list_words = remove_stop(list3)"
   ]
  },
  {
   "cell_type": "code",
   "execution_count": 104,
   "metadata": {
    "collapsed": true
   },
   "outputs": [],
   "source": [
    "#Put unique words in dic_words\n",
    "dic_words={}\n",
    "for word in list_words:\n",
    "    if word.lower() not in dic_words:\n",
    "        dic_words[word.lower()]=1\n",
    "    else:\n",
    "        dic_words[word.lower()]+=1"
   ]
  },
  {
   "cell_type": "code",
   "execution_count": 105,
   "metadata": {
    "collapsed": true
   },
   "outputs": [],
   "source": [
    "#Sort all words by frequency\n",
    "list_sorted=[]\n",
    "list_sorted = sorted(dic_words.items(), key = lambda x : x[1], reverse =True)"
   ]
  },
  {
   "cell_type": "code",
   "execution_count": 106,
   "metadata": {
    "collapsed": false
   },
   "outputs": [
    {
     "name": "stdout",
     "output_type": "stream",
     "text": [
      "The top10 words in the past 5 years's articles are:\n",
      "new  was mentioned  120858  times\n",
      "york  was mentioned  40780  times\n",
      "said  was mentioned  38552  times\n",
      "two  was mentioned  32812  times\n",
      "one  was mentioned  30094  times\n",
      "first  was mentioned  29752  times\n",
      "president  was mentioned  28836  times\n",
      "would  was mentioned  26440  times\n",
      "united  was mentioned  22168  times\n",
      "american  was mentioned  20152  times\n"
     ]
    }
   ],
   "source": [
    "print('The top10 words in the past 5 years\\'s articles are:')\n",
    "for i in range(10):\n",
    "    print(list_sorted[i][0],' was mentioned ', list_sorted[i][1],' times')"
   ]
  },
  {
   "cell_type": "code",
   "execution_count": null,
   "metadata": {
    "collapsed": true
   },
   "outputs": [],
   "source": []
  }
 ],
 "metadata": {
  "kernelspec": {
   "display_name": "Python 3",
   "language": "python",
   "name": "python3"
  },
  "language_info": {
   "codemirror_mode": {
    "name": "ipython",
    "version": 3
   },
   "file_extension": ".py",
   "mimetype": "text/x-python",
   "name": "python",
   "nbconvert_exporter": "python",
   "pygments_lexer": "ipython3",
   "version": "3.6.0"
  }
 },
 "nbformat": 4,
 "nbformat_minor": 2
}
