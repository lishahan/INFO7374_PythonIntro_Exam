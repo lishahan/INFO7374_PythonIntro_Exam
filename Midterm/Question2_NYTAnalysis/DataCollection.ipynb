{
 "cells": [
  {
   "cell_type": "markdown",
   "metadata": {
    "collapsed": false
   },
   "source": [
    "# Question2_New York Times data Analysis"
   ]
  },
  {
   "cell_type": "markdown",
   "metadata": {},
   "source": [
    "## DataCollection"
   ]
  },
  {
   "cell_type": "code",
   "execution_count": 1,
   "metadata": {
    "collapsed": true
   },
   "outputs": [],
   "source": [
    "import time\n",
    "import os\n",
    "import json\n",
    "import requests"
   ]
  },
  {
   "cell_type": "markdown",
   "metadata": {},
   "source": [
    "## Collect data with search API"
   ]
  },
  {
   "cell_type": "code",
   "execution_count": 2,
   "metadata": {
    "collapsed": true
   },
   "outputs": [],
   "source": [
    "path_local = '/Users/lisha/Desktop/INFO7374_PythonIntro_Exam/Midterm/data/Search'\n",
    "key_archive = 'b2156ed3cc2e432cb4847d2724b4fcf1'\n",
    "key_search = 'a3b357c41f464a4e82a775c8054ed0e1'"
   ]
  },
  {
   "cell_type": "code",
   "execution_count": 3,
   "metadata": {
    "collapsed": true
   },
   "outputs": [],
   "source": [
    "#Create folders from 1976-2017 and named them by years\n",
    "\n",
    "year = 2016\n",
    "for i in range(50):\n",
    "    path_new = path_local + '/'+ str(year-i)\n",
    "    if not os.path.exists(path_new):\n",
    "        os.makedirs(path_new)"
   ]
  },
  {
   "cell_type": "code",
   "execution_count": 4,
   "metadata": {
    "collapsed": false
   },
   "outputs": [],
   "source": [
    "#collect json files using search key params\n",
    "#keyword Oscar\n",
    "#first 3 months of the year is the acadmy award so only search the first three month's articles\n",
    "#page from 25 pages down to 10 pages depends on years\n",
    "\n",
    "year = 2016\n",
    "for j in range(20):\n",
    "    for i in range(3): \n",
    "        params = {'api-key' : key_search,'q': \"oscar\",'begin_date' : str(year-j)+str('0303'),\n",
    "              'end_date' : str(year+j)+str('0330'),'sort' : 'newest','page': i}\n",
    "        if not os.path.exists(path_local +'/'+ str(year-j)+'/'+'nytdata'+ str(year-j) + str(i+1+25) + '.json'):            \n",
    "            time.sleep(4)\n",
    "            r = requests.get('https://api.nytimes.com/svc/search/v2/articlesearch.json', params = params)\n",
    "            data = r.json()\n",
    "            with open(path_local +'/'+ str(year-j)+'/'+'nytdata'+ str(year-j) + str(i+1+25) + '.json', 'w') as f:\n",
    "                json.dump(data, f)\n",
    "        else:\n",
    "            time.sleep(0)\n",
    "        \n",
    "        "
   ]
  },
  {
   "cell_type": "markdown",
   "metadata": {},
   "source": [
    "## Collect data with Archive API"
   ]
  },
  {
   "cell_type": "code",
   "execution_count": 5,
   "metadata": {
    "collapsed": true
   },
   "outputs": [],
   "source": [
    "path_local1 = '/Users/lisha/Desktop/INFO7374_PythonIntro_Exam/Midterm/data/Archieve'"
   ]
  },
  {
   "cell_type": "code",
   "execution_count": 6,
   "metadata": {
    "collapsed": true
   },
   "outputs": [],
   "source": [
    "#Create folders from 1976-2017 and named them by years\n",
    "year = 2017\n",
    "for i in range(50):\n",
    "    path_new = path_local1 + '/'+ str(year-i)\n",
    "    if not os.path.exists(path_new):\n",
    "        os.makedirs(path_new)"
   ]
  },
  {
   "cell_type": "code",
   "execution_count": 42,
   "metadata": {
    "collapsed": false
   },
   "outputs": [],
   "source": [
    "#Get data from Archieve\n",
    "params = {'api-key': key_archive}\n",
    "year = 2016\n",
    "for j in range(50):\n",
    "    for i in range(12):\n",
    "        if not os.path.exists(path_local1 +'/'+ str(year-j)+'/'+'nytdata'+ str(year-j) + str(i+1) + '.json'):\n",
    "            time.sleep(5)\n",
    "            f = requests.get('https://api.nytimes.com/svc/archive/v1/'+ str(year-j) + '/' + str(i+1) + '.json', params=params)\n",
    "            archive = f.json()\n",
    "            with open(path_local1 +'/'+ str(year-j)+'/'+'nytdata_archieve'+ str(year-j) + str(i+1) + '.json', 'w') as f:\n",
    "                json.dump(archive, f)          \n",
    "        else:\n",
    "            time.sleep(0)"
   ]
  },
  {
   "cell_type": "code",
   "execution_count": null,
   "metadata": {
    "collapsed": true
   },
   "outputs": [],
   "source": []
  }
 ],
 "metadata": {
  "kernelspec": {
   "display_name": "Python 3",
   "language": "python",
   "name": "python3"
  },
  "language_info": {
   "codemirror_mode": {
    "name": "ipython",
    "version": 3
   },
   "file_extension": ".py",
   "mimetype": "text/x-python",
   "name": "python",
   "nbconvert_exporter": "python",
   "pygments_lexer": "ipython3",
   "version": "3.6.0"
  }
 },
 "nbformat": 4,
 "nbformat_minor": 2
}
