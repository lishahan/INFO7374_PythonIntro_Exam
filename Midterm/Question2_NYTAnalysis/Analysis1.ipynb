{
 "cells": [
  {
   "cell_type": "markdown",
   "metadata": {},
   "source": [
    "# New York Time Data Analysis"
   ]
  },
  {
   "cell_type": "markdown",
   "metadata": {},
   "source": [
    "## Analysis1\n",
    "Top20 hited web page and there links"
   ]
  },
  {
   "cell_type": "code",
   "execution_count": 69,
   "metadata": {
    "collapsed": true
   },
   "outputs": [],
   "source": [
    "import nltk\n",
    "import os\n",
    "import string\n",
    "from nltk.corpus import stopwords\n",
    "import json\n",
    "import glob"
   ]
  },
  {
   "cell_type": "code",
   "execution_count": 70,
   "metadata": {
    "collapsed": true
   },
   "outputs": [],
   "source": [
    "#define local path\n",
    "path_local = '/Users/lisha/Desktop/INFO7374_PythonIntro_Exam/Midterm/data/Search'"
   ]
  },
  {
   "cell_type": "code",
   "execution_count": 71,
   "metadata": {
    "collapsed": false
   },
   "outputs": [],
   "source": [
    "#get all the directories of all files\n",
    "list_dir = []\n",
    "for path, subdirs, files in os.walk(path_local):\n",
    "    for name in files:\n",
    "        list_dir.append(os.path.join(path, name))"
   ]
  },
  {
   "cell_type": "code",
   "execution_count": 72,
   "metadata": {
    "collapsed": false
   },
   "outputs": [
    {
     "name": "stdout",
     "output_type": "stream",
     "text": [
      "['/Users/lisha/Desktop/INFO7374_PythonIntro_Exam/Midterm/data/Search/.DS_Store', '/Users/lisha/Desktop/INFO7374_PythonIntro_Exam/Midterm/data/Search/1968/.DS_Store', '/Users/lisha/Desktop/INFO7374_PythonIntro_Exam/Midterm/data/Search/1968/nytdata19681.json']\n"
     ]
    }
   ],
   "source": [
    "print(list_dir[:3])"
   ]
  },
  {
   "cell_type": "code",
   "execution_count": 73,
   "metadata": {
    "collapsed": false
   },
   "outputs": [],
   "source": [
    "dic_data = {}\n",
    "for root, dirs, files in os.walk(os.getcwd()):            \n",
    "    for f in list_dir:                        \n",
    "        if f.lower().endswith((\".json\")):  \n",
    "            with open(f, 'r') as data_file:\n",
    "                dic_data[f] = json.load(data_file)             "
   ]
  },
  {
   "cell_type": "code",
   "execution_count": 74,
   "metadata": {
    "collapsed": false
   },
   "outputs": [],
   "source": [
    "dic_frequency = {}\n",
    "for key in dic_data.keys():\n",
    "    if 'response' in dic_data[key].keys():\n",
    "        if len(dic_data[key]['response']['docs'])>0:\n",
    "            link = dic_data[key]['response']['docs'][0]['web_url']\n",
    "            if link not in dic_frequency.keys():\n",
    "                dic_frequency[link] = dic_data[key]['response']['meta']['hits']"
   ]
  },
  {
   "cell_type": "code",
   "execution_count": 75,
   "metadata": {
    "collapsed": true
   },
   "outputs": [],
   "source": [
    "#Sort hit frequency \n",
    "list_sorted = []\n",
    "list_sorted = sorted(dic_frequency.items(), key = lambda x : x[1], reverse =True)"
   ]
  },
  {
   "cell_type": "code",
   "execution_count": 76,
   "metadata": {
    "collapsed": false
   },
   "outputs": [
    {
     "name": "stdout",
     "output_type": "stream",
     "text": [
      "For the past 50 years, top20 hits and its links are:\n",
      "52498   https://www.nytimes.com/2017/03/06/science/galpagos-blue-footed-boobies.html\n",
      "52498   https://www.nytimes.com/2017/03/04/opinion/sunday/mad-trump-happy-w.html\n",
      "52498   https://www.nytimes.com/2017/03/03/arts/television/george-w-bush-jimmy-kimmel.html\n",
      "1065   http://wordplay.blogs.nytimes.com/2015/03/02/gamblers-last-words/\n",
      "1065   http://artsbeat.blogs.nytimes.com/2015/02/23/oscars-tv-ratings-fall-15-percent/\n",
      "1065   http://www.nytimes.com/reuters/2015/03/01/arts/01reuters-usa-boxoffice.html\n",
      "1065   http://www.nytimes.com/2015/02/28/business/media/john-fairchild-editor-of-womens-wear-daily-dies-at-87.html\n",
      "1065   http://www.nytimes.com/aponline/2015/02/27/us/ap-us-obit-john-fairchild.html\n",
      "1065   http://www.nytimes.com/aponline/2015/02/27/world/asia/ap-as-philippines-france.html\n",
      "1065   http://www.nytimes.com/2015/03/01/theater/carey-mulligan-and-bill-nighy-prepare-skylight-for-broadway.html\n",
      "1065   http://www.nytimes.com/2015/02/26/world/middleeast/kerry-reminds-congress-netanyahu-advised-us-to-invade-iraq.html\n",
      "1065   http://www.nytimes.com/2015/02/25/opinion/and-the-oscar-goes-to-excellence-not-popularity.html\n",
      "1065   http://www.nytimes.com/aponline/2015/02/24/world/europe/ap-eu-italy-bond-film.html\n",
      "947   http://www.nytimes.com/reuters/2014/03/02/arts/02reuters-oscars-bestpicture.html\n",
      "947   http://www.nytimes.com/aponline/2014/02/28/us/ap-us-oscars-best-picture-race.html\n",
      "947   http://www.nytimes.com/video/multimedia/100000002745533/best-supporting-actor-oscar-nominee-abdi-says-this-is-the-highli.html\n",
      "947   http://www.nytimes.com/reuters/2014/03/02/arts/02reuters-oscars-animation.html\n",
      "947   http://www.nytimes.com/aponline/2014/03/02/us/ap-us-oscars-show-bits-package.html\n",
      "947   http://www.nytimes.com/video/multimedia/100000002744569/the-red-carpet-is-rolled-out-and-oscar-preparations-are-almost-c.html\n",
      "947   http://www.nytimes.com/aponline/2014/03/01/us/ap-us-oscar-countdown-hair-and-makeup.html\n"
     ]
    }
   ],
   "source": [
    "print('For the past 50 years, top20 hits and its links are:')\n",
    "for i in range(20):\n",
    "    print(list_sorted[i][1], ' ', list_sorted[i][0])"
   ]
  },
  {
   "cell_type": "code",
   "execution_count": null,
   "metadata": {
    "collapsed": true
   },
   "outputs": [],
   "source": []
  }
 ],
 "metadata": {
  "kernelspec": {
   "display_name": "Python 3",
   "language": "python",
   "name": "python3"
  },
  "language_info": {
   "codemirror_mode": {
    "name": "ipython",
    "version": 3
   },
   "file_extension": ".py",
   "mimetype": "text/x-python",
   "name": "python",
   "nbconvert_exporter": "python",
   "pygments_lexer": "ipython3",
   "version": "3.6.0"
  }
 },
 "nbformat": 4,
 "nbformat_minor": 2
}
