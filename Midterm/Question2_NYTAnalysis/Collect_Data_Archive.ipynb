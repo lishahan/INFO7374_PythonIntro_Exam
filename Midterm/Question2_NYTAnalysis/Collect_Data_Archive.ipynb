{
 "cells": [
  {
   "cell_type": "markdown",
   "metadata": {},
   "source": [
    "# Question2_New York Times data Analysis"
   ]
  },
  {
   "cell_type": "markdown",
   "metadata": {},
   "source": [
    "# DataCollection"
   ]
  },
  {
   "cell_type": "code",
   "execution_count": 1,
   "metadata": {
    "collapsed": true
   },
   "outputs": [],
   "source": [
    "import time\n",
    "import os\n",
    "import json\n",
    "import requests"
   ]
  },
  {
   "cell_type": "markdown",
   "metadata": {},
   "source": [
    "## Collect data with Archive API"
   ]
  },
  {
   "cell_type": "code",
   "execution_count": 2,
   "metadata": {
    "collapsed": true
   },
   "outputs": [],
   "source": [
    "path_local1 = '/Users/lisha/Desktop/INFO7374_PythonIntro_Exam/Midterm/data/Archieve'\n",
    "key_archive = os.getenv('auth_key')"
   ]
  },
  {
   "cell_type": "code",
   "execution_count": 3,
   "metadata": {
    "collapsed": false
   },
   "outputs": [
    {
     "name": "stdout",
     "output_type": "stream",
     "text": [
      "b2156ed3cc2e432cb4847d2724b4fcf1\n"
     ]
    }
   ],
   "source": [
    "print(key_archive)"
   ]
  },
  {
   "cell_type": "code",
   "execution_count": 4,
   "metadata": {
    "collapsed": true
   },
   "outputs": [],
   "source": [
    "#Create folders from 1976-2017 and named them by years\n",
    "year = 2017\n",
    "for i in range(50):\n",
    "    path_new = path_local1 + '/'+ str(year-i)\n",
    "    if not os.path.exists(path_new):\n",
    "        os.makedirs(path_new)"
   ]
  },
  {
   "cell_type": "code",
   "execution_count": 7,
   "metadata": {
    "collapsed": false
   },
   "outputs": [],
   "source": [
    "#Get data from Archieve\n",
    "params = {'api-key': key_archive}\n",
    "year = 2016\n",
    "for j in range(50):\n",
    "    for i in range(12):\n",
    "        if not os.path.exists(path_local1 +'/'+ str(year-j)+'/'+'nytdata'+ str(year-j) + str(i+1) + '.json'):\n",
    "            time.sleep(5)\n",
    "            f = requests.get('https://api.nytimes.com/svc/archive/v1/'+ str(year-j) + '/' + str(i+1) + '.json', params=params)\n",
    "            archive = f.json()\n",
    "            with open(path_local1 +'/'+ str(year-j)+'/'+'nytdata_archieve'+ str(year-j) + str(i+1) + '.json', 'w') as f:\n",
    "                json.dump(archive, f)          \n",
    "        else:\n",
    "            time.sleep(0)"
   ]
  }
 ],
 "metadata": {
  "kernelspec": {
   "display_name": "Python 3",
   "language": "python",
   "name": "python3"
  },
  "language_info": {
   "codemirror_mode": {
    "name": "ipython",
    "version": 3
   },
   "file_extension": ".py",
   "mimetype": "text/x-python",
   "name": "python",
   "nbconvert_exporter": "python",
   "pygments_lexer": "ipython3",
   "version": "3.6.0"
  }
 },
 "nbformat": 4,
 "nbformat_minor": 2
}
